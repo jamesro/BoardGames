{
 "cells": [
  {
   "cell_type": "markdown",
   "metadata": {},
   "source": [
    "# Want to play a Board Game?"
   ]
  },
  {
   "cell_type": "markdown",
   "metadata": {},
   "source": [
    "In recent years board games have made a come back and have attracted lots of new players as well as a lot of new games. http://www.boardgamegeek.com is a huge website for board game lovers with thousands of reviews of board games from its users. \n",
    "\n",
    "This project looks at a dataset which was scraped by Sean Beck (https://github.com/ThaWeatherman). The goal of this project is to see the behaviour of board game reviews, whether the trend of board game reviewing has changed over the years and if machine learning can be applied to predict the average review of a given board game."
   ]
  },
  {
   "cell_type": "code",
   "execution_count": 52,
   "metadata": {
    "collapsed": true
   },
   "outputs": [],
   "source": [
    "import warnings\n",
    "warnings.filterwarnings('ignore')\n",
    "\n",
    "import pandas as pd\n",
    "import numpy as np\n",
    "from sklearn.linear_model import LinearRegression\n",
    "from sklearn.cluster import KMeans\n",
    "from matplotlib import pyplot as plt\n",
    "%matplotlib inline\n",
    "import seaborn as sns"
   ]
  },
  {
   "cell_type": "code",
   "execution_count": 53,
   "metadata": {
    "collapsed": true
   },
   "outputs": [],
   "source": [
    "board_games = pd.read_csv(\"board_games.csv\")"
   ]
  },
  {
   "cell_type": "code",
   "execution_count": 54,
   "metadata": {
    "collapsed": false
   },
   "outputs": [
    {
     "data": {
      "text/html": [
       "<div>\n",
       "<table border=\"1\" class=\"dataframe\">\n",
       "  <thead>\n",
       "    <tr style=\"text-align: right;\">\n",
       "      <th></th>\n",
       "      <th>id</th>\n",
       "      <th>type</th>\n",
       "      <th>name</th>\n",
       "      <th>yearpublished</th>\n",
       "      <th>minplayers</th>\n",
       "      <th>maxplayers</th>\n",
       "      <th>playingtime</th>\n",
       "      <th>minplaytime</th>\n",
       "      <th>maxplaytime</th>\n",
       "      <th>minage</th>\n",
       "      <th>users_rated</th>\n",
       "      <th>average_rating</th>\n",
       "      <th>bayes_average_rating</th>\n",
       "      <th>total_owners</th>\n",
       "      <th>total_traders</th>\n",
       "      <th>total_wanters</th>\n",
       "      <th>total_wishers</th>\n",
       "      <th>total_comments</th>\n",
       "      <th>total_weights</th>\n",
       "      <th>average_weight</th>\n",
       "    </tr>\n",
       "  </thead>\n",
       "  <tbody>\n",
       "    <tr>\n",
       "      <th>0</th>\n",
       "      <td>12333</td>\n",
       "      <td>boardgame</td>\n",
       "      <td>Twilight Struggle</td>\n",
       "      <td>2005</td>\n",
       "      <td>2</td>\n",
       "      <td>2</td>\n",
       "      <td>180</td>\n",
       "      <td>180</td>\n",
       "      <td>180</td>\n",
       "      <td>13</td>\n",
       "      <td>20113</td>\n",
       "      <td>8.33774</td>\n",
       "      <td>8.22186</td>\n",
       "      <td>26647</td>\n",
       "      <td>372</td>\n",
       "      <td>1219</td>\n",
       "      <td>5865</td>\n",
       "      <td>5347</td>\n",
       "      <td>2562</td>\n",
       "      <td>3.4785</td>\n",
       "    </tr>\n",
       "    <tr>\n",
       "      <th>1</th>\n",
       "      <td>120677</td>\n",
       "      <td>boardgame</td>\n",
       "      <td>Terra Mystica</td>\n",
       "      <td>2012</td>\n",
       "      <td>2</td>\n",
       "      <td>5</td>\n",
       "      <td>150</td>\n",
       "      <td>60</td>\n",
       "      <td>150</td>\n",
       "      <td>12</td>\n",
       "      <td>14383</td>\n",
       "      <td>8.28798</td>\n",
       "      <td>8.14232</td>\n",
       "      <td>16519</td>\n",
       "      <td>132</td>\n",
       "      <td>1586</td>\n",
       "      <td>6277</td>\n",
       "      <td>2526</td>\n",
       "      <td>1423</td>\n",
       "      <td>3.8939</td>\n",
       "    </tr>\n",
       "    <tr>\n",
       "      <th>2</th>\n",
       "      <td>102794</td>\n",
       "      <td>boardgame</td>\n",
       "      <td>Caverna: The Cave Farmers</td>\n",
       "      <td>2013</td>\n",
       "      <td>1</td>\n",
       "      <td>7</td>\n",
       "      <td>210</td>\n",
       "      <td>30</td>\n",
       "      <td>210</td>\n",
       "      <td>12</td>\n",
       "      <td>9262</td>\n",
       "      <td>8.28994</td>\n",
       "      <td>8.06886</td>\n",
       "      <td>12230</td>\n",
       "      <td>99</td>\n",
       "      <td>1476</td>\n",
       "      <td>5600</td>\n",
       "      <td>1700</td>\n",
       "      <td>777</td>\n",
       "      <td>3.7761</td>\n",
       "    </tr>\n",
       "    <tr>\n",
       "      <th>3</th>\n",
       "      <td>25613</td>\n",
       "      <td>boardgame</td>\n",
       "      <td>Through the Ages: A Story of Civilization</td>\n",
       "      <td>2006</td>\n",
       "      <td>2</td>\n",
       "      <td>4</td>\n",
       "      <td>240</td>\n",
       "      <td>240</td>\n",
       "      <td>240</td>\n",
       "      <td>12</td>\n",
       "      <td>13294</td>\n",
       "      <td>8.20407</td>\n",
       "      <td>8.05804</td>\n",
       "      <td>14343</td>\n",
       "      <td>362</td>\n",
       "      <td>1084</td>\n",
       "      <td>5075</td>\n",
       "      <td>3378</td>\n",
       "      <td>1642</td>\n",
       "      <td>4.1590</td>\n",
       "    </tr>\n",
       "    <tr>\n",
       "      <th>4</th>\n",
       "      <td>3076</td>\n",
       "      <td>boardgame</td>\n",
       "      <td>Puerto Rico</td>\n",
       "      <td>2002</td>\n",
       "      <td>2</td>\n",
       "      <td>5</td>\n",
       "      <td>150</td>\n",
       "      <td>90</td>\n",
       "      <td>150</td>\n",
       "      <td>12</td>\n",
       "      <td>39883</td>\n",
       "      <td>8.14261</td>\n",
       "      <td>8.04524</td>\n",
       "      <td>44362</td>\n",
       "      <td>795</td>\n",
       "      <td>861</td>\n",
       "      <td>5414</td>\n",
       "      <td>9173</td>\n",
       "      <td>5213</td>\n",
       "      <td>3.2943</td>\n",
       "    </tr>\n",
       "  </tbody>\n",
       "</table>\n",
       "</div>"
      ],
      "text/plain": [
       "       id       type                                       name  \\\n",
       "0   12333  boardgame                          Twilight Struggle   \n",
       "1  120677  boardgame                              Terra Mystica   \n",
       "2  102794  boardgame                  Caverna: The Cave Farmers   \n",
       "3   25613  boardgame  Through the Ages: A Story of Civilization   \n",
       "4    3076  boardgame                                Puerto Rico   \n",
       "\n",
       "   yearpublished  minplayers  maxplayers  playingtime  minplaytime  \\\n",
       "0           2005           2           2          180          180   \n",
       "1           2012           2           5          150           60   \n",
       "2           2013           1           7          210           30   \n",
       "3           2006           2           4          240          240   \n",
       "4           2002           2           5          150           90   \n",
       "\n",
       "   maxplaytime  minage  users_rated  average_rating  bayes_average_rating  \\\n",
       "0          180      13        20113         8.33774               8.22186   \n",
       "1          150      12        14383         8.28798               8.14232   \n",
       "2          210      12         9262         8.28994               8.06886   \n",
       "3          240      12        13294         8.20407               8.05804   \n",
       "4          150      12        39883         8.14261               8.04524   \n",
       "\n",
       "   total_owners  total_traders  total_wanters  total_wishers  total_comments  \\\n",
       "0         26647            372           1219           5865            5347   \n",
       "1         16519            132           1586           6277            2526   \n",
       "2         12230             99           1476           5600            1700   \n",
       "3         14343            362           1084           5075            3378   \n",
       "4         44362            795            861           5414            9173   \n",
       "\n",
       "   total_weights  average_weight  \n",
       "0           2562          3.4785  \n",
       "1           1423          3.8939  \n",
       "2            777          3.7761  \n",
       "3           1642          4.1590  \n",
       "4           5213          3.2943  "
      ]
     },
     "execution_count": 54,
     "metadata": {},
     "output_type": "execute_result"
    }
   ],
   "source": [
    "board_games.head()"
   ]
  },
  {
   "cell_type": "markdown",
   "metadata": {},
   "source": [
    "The dataset contains a lot of information about the boardgame, most columns are quite self-explanatory. One curious common is the \"average weight\" column. This is a subjective score from the user on how 'involved' the game is, how long it takes to learn the rules, how much thinking must be done while playing etc.\n",
    "\n",
    "We are primarily interested in the \"average rating\" column."
   ]
  },
  {
   "cell_type": "markdown",
   "metadata": {},
   "source": [
    "## Exploratory Data Analysis"
   ]
  },
  {
   "cell_type": "markdown",
   "metadata": {},
   "source": [
    "First we'll clean up the dataset a bit, dropping any rows with missing data, and dropping the columns we don't need."
   ]
  },
  {
   "cell_type": "code",
   "execution_count": 55,
   "metadata": {
    "collapsed": false
   },
   "outputs": [],
   "source": [
    "board_games.dropna(axis=0,inplace=True)\n",
    "board_games.drop(['id','type','name','bayes_average_rating'],axis=1, inplace=True)"
   ]
  },
  {
   "cell_type": "markdown",
   "metadata": {},
   "source": [
    "As we are interested in the reviews given to board games, we must drop any game which has recieved no reviews."
   ]
  },
  {
   "cell_type": "code",
   "execution_count": 56,
   "metadata": {
    "collapsed": false
   },
   "outputs": [],
   "source": [
    "board_games = board_games[board_games['users_rated'] > 0]"
   ]
  },
  {
   "cell_type": "code",
   "execution_count": 57,
   "metadata": {
    "collapsed": false
   },
   "outputs": [
    {
     "data": {
      "image/png": "[encoded data removed]",
      "text/plain": [
       "<matplotlib.figure.Figure at 0x12202a9e8>"
      ]
     },
     "metadata": {},
     "output_type": "display_data"
    },
    {
     "name": "stdout",
     "output_type": "stream",
     "text": [
      "At first glance the data of average ratings looks like a slightly skewed normal distribution, although somewhat noisy. The mean rating for board games in this data set is 6.02, with a standard deviation of 1.58. This implies that a suitable error metric to make sense of this dataset might be a simple mean-squared error (MSE). Comparing this to the standard deviation will give us a good insight into the usefulness of our model.\n"
     ]
    }
   ],
   "source": [
    "sns.distplot(board_games['average_rating'],kde=False)\n",
    "plt.axvline(board_games['average_rating'].mean())\n",
    "plt.show()\n",
    "\n",
    "print(\"At first glance the data of average ratings looks like a slightly skewed normal distribution, although somewhat noisy. The mean rating for board games in this data set is {mean:.2f}, with a standard deviation of {sd:.2f}. This implies that a suitable error metric to make sense of this dataset might be a simple mean-squared error (MSE). Comparing this to the standard deviation will give us a good insight into the usefulness of our model.\".format(mean=board_games['average_rating'].mean(), sd=board_games['average_rating'].std()))"
   ]
  },
  {
   "cell_type": "markdown",
   "metadata": {},
   "source": [
    "## Clustering"
   ]
  },
  {
   "cell_type": "code",
   "execution_count": 58,
   "metadata": {
    "collapsed": false
   },
   "outputs": [
    {
     "data": {
      "text/plain": [
       "KMeans(copy_x=True, init='k-means++', max_iter=300, n_clusters=5, n_init=10,\n",
       "    n_jobs=1, precompute_distances='auto', random_state=None, tol=0.0001,\n",
       "    verbose=0)"
      ]
     },
     "execution_count": 58,
     "metadata": {},
     "output_type": "execute_result"
    }
   ],
   "source": [
    "clusters.fit(board_games)"
   ]
  },
  {
   "cell_type": "code",
   "execution_count": 59,
   "metadata": {
    "collapsed": false
   },
   "outputs": [],
   "source": [
    "game_mean = board_games.apply(np.mean,axis=1)\n",
    "game_std = board_games.apply(np.std,axis=1)\n",
    "\n",
    "labels = clusters.labels_\n",
    "cluster_df = pd.DataFrame({\"mean\":game_mean ,\"std\": game_std,\"labels\":labels})"
   ]
  },
  {
   "cell_type": "code",
   "execution_count": 60,
   "metadata": {
    "collapsed": false
   },
   "outputs": [
    {
     "data": {
      "image/png": "[encoded data removed]",
      "text/plain": [
       "<matplotlib.figure.Figure at 0x12202acc0>"
      ]
     },
     "metadata": {},
     "output_type": "display_data"
    }
   ],
   "source": [
    "sns.lmplot('mean','std',data=cluster_df,hue='labels',fit_reg=False)\n",
    "plt.show()"
   ]
  },
  {
   "cell_type": "markdown",
   "metadata": {},
   "source": [
    "This dense clustering tells us that most games are quite similar. However there are a few games that stand out as having very large values (likely from the number of users that rated the game), this tells us that there are some games that have recieved tens of thousand of reviews, while most haven't been reviewed much."
   ]
  },
  {
   "cell_type": "markdown",
   "metadata": {
    "collapsed": true
   },
   "source": [
    "## Do games that get lots of reviews always good games?"
   ]
  },
  {
   "cell_type": "code",
   "execution_count": 61,
   "metadata": {
    "collapsed": false
   },
   "outputs": [
    {
     "data": {
      "image/png": "[encoded data removed]",
      "text/plain": [
       "<matplotlib.figure.Figure at 0x11840be80>"
      ]
     },
     "metadata": {},
     "output_type": "display_data"
    }
   ],
   "source": [
    "bg_big = board_games[board_games['users_rated'] > 10000]\n",
    "\n",
    "sns.regplot(bg_big['users_rated'],bg_big['average_rating'],fit_reg=True)\n",
    "plt.title('Number of ratings and the average overall rating')\n",
    "plt.xlabel('Users Rated')\n",
    "plt.ylabel('Average Rating')\n",
    "plt.show()"
   ]
  },
  {
   "cell_type": "markdown",
   "metadata": {},
   "source": [
    "It seems that there is a very slight correlation between the number of users who reviewed a game and the average rating. This isn't all that surprising since if a game is very popular, then it will attract lots of positive attention. If a game is unpopular, it's unlikely that thousands of people will leave negative reviews, they simply won't buy it. \n",
    "\n",
    "There is one interesting outlier on the above graph however, one game received over 15,000 reviews and has a terrible average of about 4.3! Let's see which game that is."
   ]
  },
  {
   "cell_type": "code",
   "execution_count": 62,
   "metadata": {
    "collapsed": false
   },
   "outputs": [],
   "source": [
    "df = pd.read_csv(\"board_games.csv\") # Oops! We need the name column again\n",
    "worst_game = df[(df[\"users_rated\"] > 10000) & (df[\"average_rating\"] < 5)]['name'].values[0]\n",
    "del df"
   ]
  },
  {
   "cell_type": "code",
   "execution_count": 63,
   "metadata": {
    "collapsed": false
   },
   "outputs": [
    {
     "name": "stdout",
     "output_type": "stream",
     "text": [
      "The worst game among those with many reviews is Monopoly\n"
     ]
    }
   ],
   "source": [
    "print(\"The worst game among those with many reviews is {}\".format(worst_game))"
   ]
  },
  {
   "cell_type": "markdown",
   "metadata": {},
   "source": [
    "Wow! That's surprising! Perhaps too many family arguments have been caused by Monopoly..."
   ]
  },
  {
   "cell_type": "markdown",
   "metadata": {},
   "source": [
    "## Are newer games better?\n",
    "\n",
    "The \"year\" column of this dataset is a bit of a mess, with many years set to 0 and curiously a few with -3500. Let's ignore any games that have a year published before 1900."
   ]
  },
  {
   "cell_type": "code",
   "execution_count": 72,
   "metadata": {
    "collapsed": false
   },
   "outputs": [],
   "source": [
    "valid_years = board_games[board_games['yearpublished'] > 1900]\n",
    "\n",
    "valid_years['decade'] = (valid_years['yearpublished']//10)*10"
   ]
  },
  {
   "cell_type": "code",
   "execution_count": 73,
   "metadata": {
    "collapsed": false
   },
   "outputs": [
    {
     "data": {
      "image/png": "[encoded data removed]",
      "text/plain": [
       "<matplotlib.figure.Figure at 0x11a9de978>"
      ]
     },
     "metadata": {},
     "output_type": "display_data"
    }
   ],
   "source": [
    "sns.boxplot(x='decade',y='average_rating',data=valid_years)\n",
    "plt.show()"
   ]
  },
  {
   "cell_type": "markdown",
   "metadata": {},
   "source": [
    "There seems to be a steady increase in the 'generosity' of board-game reviewers over the last 50 years. Have board games got better over the years or are people just more critical of older games?"
   ]
  },
  {
   "cell_type": "markdown",
   "metadata": {},
   "source": [
    "## More machine learning - linear regression\n",
    "\n",
    "We can apply some machine learning to see if the average rating can be predicted. We will train our initial linear regression model, then do some feature enginerring to see if our model can be improved."
   ]
  },
  {
   "cell_type": "code",
   "execution_count": 74,
   "metadata": {
    "collapsed": false
   },
   "outputs": [
    {
     "data": {
      "text/plain": [
       "average_rating    1.000000\n",
       "average_weight    0.351081\n",
       "minage            0.210049\n",
       "total_wanters     0.196566\n",
       "total_wishers     0.171375\n",
       "total_owners      0.137478\n",
       "total_comments    0.123714\n",
       "total_traders     0.119452\n",
       "users_rated       0.112564\n",
       "total_weights     0.109691\n",
       "yearpublished     0.108461\n",
       "playingtime       0.048994\n",
       "maxplaytime       0.048994\n",
       "minplaytime       0.043985\n",
       "maxplayers       -0.008335\n",
       "minplayers       -0.032701\n",
       "Name: average_rating, dtype: float64"
      ]
     },
     "execution_count": 74,
     "metadata": {},
     "output_type": "execute_result"
    }
   ],
   "source": [
    "correlations = numeric_columns.corr().sort('average_rating',ascending=False)\n",
    "correlations['average_rating']"
   ]
  },
  {
   "cell_type": "markdown",
   "metadata": {},
   "source": [
    "Now we can see that the average rating are the weight of the board game (remember weight is how 'involved' the game is). The minimum age of players is also correlated to the average rating, which suggests that games for adults are more highly rated than games for children."
   ]
  },
  {
   "cell_type": "code",
   "execution_count": 79,
   "metadata": {
    "collapsed": false
   },
   "outputs": [
    {
     "name": "stdout",
     "output_type": "stream",
     "text": [
      "2.09777633779\n"
     ]
    }
   ],
   "source": [
    "from sklearn.cross_validation import KFold\n",
    "from sklearn.cross_validation import cross_val_score\n",
    "\n",
    "train_x = numeric_columns[['average_weight', 'minage', 'total_wanters',\n",
    "       'total_wishers', 'total_owners', 'total_comments', 'total_traders',\n",
    "       'users_rated', 'total_weights','yearpublished']]\n",
    "labels = numeric_columns['average_rating']\n",
    "\n",
    "kf = KFold(n=numeric_columns.shape[0], n_folds=3, shuffle=True, random_state=8)\n",
    "\n",
    "lr = LinearRegression()\n",
    "\n",
    "accuracies = cross_val_score(lr, train_x, labels, 'mean_squared_error', cv=kf)\n",
    "\n",
    "average_accuracy = np.abs(np.mean(accuracies))\n",
    "\n",
    "print(average_accuracy)"
   ]
  },
  {
   "cell_type": "markdown",
   "metadata": {},
   "source": [
    "Our mean-squared error is quite close to our standard deviation, which means that our model isn't very useful and has little predictive power. We can do some feature engineering to see if this can be improved.\n",
    "    "
   ]
  },
  {
   "cell_type": "markdown",
   "metadata": {},
   "source": [
    "## Feature Engineering"
   ]
  },
  {
   "cell_type": "code",
   "execution_count": 77,
   "metadata": {
    "collapsed": true
   },
   "outputs": [],
   "source": [
    "board_games['players'] = board_games['maxplayers']-board_games['minplayers']\n",
    "\n",
    "board_games['timerange'] = board_games['maxplaytime']-board_games['minplaytime']\n",
    "\n",
    "board_games['ratingfraction'] = board_games['total_owners'] / board_games['users_rated']\n"
   ]
  },
  {
   "cell_type": "code",
   "execution_count": 80,
   "metadata": {
    "collapsed": false
   },
   "outputs": [
    {
     "name": "stdout",
     "output_type": "stream",
     "text": [
      "2.03330767316\n"
     ]
    }
   ],
   "source": [
    "train_x = board_games[['average_weight', 'minage', 'total_wanters',\n",
    "       'total_wishers', 'total_owners', 'total_comments', 'total_traders',\n",
    "       'users_rated', 'total_weights','players','timerange','ratingfraction','yearpublished']]\n",
    "kf = KFold(n=numeric_columns.shape[0], n_folds=3, shuffle=True, random_state=8)\n",
    "\n",
    "lr = LinearRegression()\n",
    "\n",
    "accuracies = cross_val_score(lr, train_x, labels, 'mean_squared_error', cv=kf)\n",
    "\n",
    "average_accuracy = np.abs(np.mean(accuracies))\n",
    "\n",
    "print(average_accuracy)"
   ]
  },
  {
   "cell_type": "markdown",
   "metadata": {
    "collapsed": true
   },
   "source": [
    "Well, there is some improvement, but not much. To improve this we could scrape more data, or take the feature engineering further. But ultimately I think machine learning is not of much use here. Still it was quite interesting to dive in to the dataset and see how reviews have changed for modern games and that Monopoly is quite universally hated!"
   ]
  }
 ],
 "metadata": {
  "kernelspec": {
   "display_name": "Python 3",
   "language": "python",
   "name": "python3"
  },
  "language_info": {
   "codemirror_mode": {
    "name": "ipython",
    "version": 3
   },
   "file_extension": ".py",
   "mimetype": "text/x-python",
   "name": "python",
   "nbconvert_exporter": "python",
   "pygments_lexer": "ipython3",
   "version": "3.5.1"
  }
 },
 "nbformat": 4,
 "nbformat_minor": 0
}
